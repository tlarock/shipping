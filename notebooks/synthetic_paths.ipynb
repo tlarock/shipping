{
 "cells": [
  {
   "cell_type": "code",
   "execution_count": 1,
   "id": "678f3957-26c3-41c5-83ec-84b89d55583f",
   "metadata": {},
   "outputs": [],
   "source": [
    "import numpy as np\n",
    "import matplotlib\n",
    "import matplotlib.pyplot as plt\n",
    "from sklearn.mixture import GaussianMixture\n",
    "%matplotlib inline"
   ]
  },
  {
   "cell_type": "markdown",
   "id": "cf56c897-301e-4024-894c-22560dbd0f81",
   "metadata": {},
   "source": [
    "# Generate a set of nodes $V$, with $|V|=977$, and random shipping distances between them"
   ]
  },
  {
   "cell_type": "code",
   "execution_count": 2,
   "id": "2a7d70ac-65b9-46d2-ac06-385f226b8748",
   "metadata": {},
   "outputs": [
    {
     "data": {
      "image/png": "[encoded data removed]",
      "text/plain": [
       "<Figure size 600x300 with 1 Axes>"
      ]
     },
     "metadata": {
      "needs_background": "light"
     },
     "output_type": "display_data"
    }
   ],
   "source": [
    "# Get the distance distribution\n",
    "real_distances = dict()\n",
    "dist_distribution = []\n",
    "with open(\"../data/port_shipping_distances.csv\", 'r') as fin:\n",
    "    for line in fin:\n",
    "        u, v, dist = line.strip().split(',')\n",
    "        dist = float(dist)\n",
    "        real_distances[(u,v)] = dist\n",
    "        dist_distribution.append(dist)\n",
    "        \n",
    "dist_distribution = np.array(dist_distribution)\n",
    "min_distance = dist_distribution.min()\n",
    "max_distance = dist_distribution.max()\n",
    "# Plot the distribution\n",
    "fig, axs = plt.subplots(1, 1, dpi=100, figsize=(6, 3), squeeze=False)\n",
    "axs[0][0].hist(dist_distribution)\n",
    "plt.subplots_adjust(wspace=0.35)"
   ]
  },
  {
   "cell_type": "code",
   "execution_count": 3,
   "id": "df4977c6-df16-4586-b7c5-6a58e1312db8",
   "metadata": {},
   "outputs": [
    {
     "name": "stdout",
     "output_type": "stream",
     "text": [
      "mu1=[6787.37594456], mu2=[17017.21007906]\n",
      "sigma1=[[3608.9196724]], sigma2=[[3215.46456878]]\n",
      "w1=0.5324902620106229, w2=0.4675097379893596\n",
      "n1=507757 n2=445794\n"
     ]
    }
   ],
   "source": [
    "# Since it looks roughly like a 2-mode normal, we'll fit a gaussian mxiture\n",
    "gm = GaussianMixture(n_components=2).fit(dist_distribution.reshape((-1, 1)))\n",
    "\n",
    "# Print the paramters of the estimated distance distribution\n",
    "n = dist_distribution.shape[0]\n",
    "print(f'mu1={gm.means_[0]}, mu2={gm.means_[1]}')\n",
    "print(f'sigma1={np.sqrt(gm.covariances_[0])}, sigma2={np.sqrt(gm.covariances_[1])}')\n",
    "print(f'w1={gm.weights_[0]}, w2={gm.weights_[1]}')\n",
    "print(f'n1={int(n * gm.weights_[0])} n2={int(n * gm.weights_[1])}')"
   ]
  },
  {
   "cell_type": "code",
   "execution_count": 4,
   "id": "c92df26b-d6d9-4a4c-9831-13224a2cea60",
   "metadata": {},
   "outputs": [
    {
     "name": "stdout",
     "output_type": "stream",
     "text": [
      "977\n"
     ]
    },
    {
     "data": {
      "text/plain": [
       "(array([ 46062., 102834., 141072., 127608.,  97454., 113198., 142806.,\n",
       "        116174.,  52876.,  13468.]),\n",
       " array([2.04822287e+00, 2.54124238e+03, 5.08043654e+03, 7.61963070e+03,\n",
       "        1.01588249e+04, 1.26980190e+04, 1.52372132e+04, 1.77764073e+04,\n",
       "        2.03156015e+04, 2.28547957e+04, 2.53939898e+04]),\n",
       " <BarContainer object of 10 artists>)"
      ]
     },
     "execution_count": 4,
     "metadata": {},
     "output_type": "execute_result"
    },
    {
     "data": {
      "image/png": "[encoded data removed]",
      "text/plain": [
       "<Figure size 600x300 with 1 Axes>"
      ]
     },
     "metadata": {
      "needs_background": "light"
     },
     "output_type": "display_data"
    }
   ],
   "source": [
    "# Assign each pair of nodes a distance\n",
    "V = list(range(0, 977))\n",
    "print(len(V))\n",
    "estimated_distances = dict()\n",
    "estimated_distances_dist = []\n",
    "for s in V:\n",
    "    for t in V:\n",
    "        if s in estimated_distances and t in estimated_distances[s] or s == t:\n",
    "            # For simplicity, we will say distances are symmetric\n",
    "            # and the distance between a port and itself will be undefined,\n",
    "            # since we disallow self-loops\n",
    "            continue\n",
    "        \n",
    "        sample = gm.sample()[0][0][0]\n",
    "        # Need to truncate to a reasonable minimum distance value\n",
    "        while sample < min_distance or sample > max_distance:\n",
    "            sample = gm.sample()[0][0][0]\n",
    "        estimated_distances.setdefault(s, dict())\n",
    "        estimated_distances[s][t] = sample\n",
    "        estimated_distances.setdefault(t, dict())\n",
    "        estimated_distances[t][s] = sample\n",
    "        \n",
    "        # Add to the distribution twice\n",
    "        estimated_distances_dist.append(sample)\n",
    "        estimated_distances_dist.append(sample)\n",
    "\n",
    "estimated_distances_dist = np.array(estimated_distances_dist)\n",
    "fig, axs = plt.subplots(1, 1, dpi=100, figsize=(6, 3), squeeze=False)\n",
    "axs[0][0].hist(estimated_distances_dist)"
   ]
  },
  {
   "cell_type": "markdown",
   "id": "6d2ba1cc-6837-4073-8af8-b6de46e1a153",
   "metadata": {},
   "source": [
    "# Given the pairwise distance between nodes in $V$, generate random data"
   ]
  },
  {
   "cell_type": "code",
   "execution_count": 5,
   "id": "9c42371a-5898-4dbb-8db3-a887b36bd053",
   "metadata": {},
   "outputs": [],
   "source": [
    "import sys\n",
    "sys.path.append(\"../code/\")\n",
    "from create_edgelist import remove_selfloops"
   ]
  },
  {
   "cell_type": "code",
   "execution_count": 6,
   "id": "fd425c36-2c0c-4724-a2e8-74f9c108a99f",
   "metadata": {},
   "outputs": [],
   "source": [
    "# Get the real data so that we can try to emulate it\n",
    "walks = []\n",
    "with open(\"../data/all_routes_2015.ngram\", 'r') as fin:\n",
    "    for line in fin:\n",
    "        walk = remove_selfloops(line.strip().split(','))\n",
    "        walks.append(walk)"
   ]
  },
  {
   "cell_type": "code",
   "execution_count": 7,
   "id": "8b7fc37b-2229-4b10-96cb-df3085128c87",
   "metadata": {},
   "outputs": [
    {
     "name": "stdout",
     "output_type": "stream",
     "text": [
      "74\n",
      "{10: 2, 3: 48, 2: 1, 4: 14, 5: 5, 6: 2, 9: 1, 16: 1}\n"
     ]
    }
   ],
   "source": [
    "# Count the number of repeated paths\n",
    "walks_set = set()\n",
    "repeated_by_length = dict()\n",
    "for walk in walks:\n",
    "    if tuple(walk) in walks_set:\n",
    "        repeated_by_length.setdefault(len(walk), 0)\n",
    "        repeated_by_length[len(walk)] += 1\n",
    "    walks_set.add(tuple(walk))\n",
    "num_repeated_paths = len(walks)-len(walks_set)\n",
    "print(num_repeated_paths)\n",
    "print(repeated_by_length)"
   ]
  },
  {
   "cell_type": "code",
   "execution_count": 13,
   "id": "97fc6b1b-6b53-4678-a373-206f2b2872a2",
   "metadata": {},
   "outputs": [],
   "source": [
    "def get_current_dists(current_node, estimated_distances):\n",
    "    # The nodes with the largest distances should be the least probable\n",
    "    current_node_dists = 1.0 / np.array([estimated_distances[current_node][v] for v in estimated_distances[current_node]]).reshape((976,))\n",
    "    current_node_dists = current_node_dists / current_node_dists.sum()\n",
    "    return current_node_dists\n",
    "\n",
    "def compute_walk(closed_walk, walk_length, total_distance, estimated_distances,\n",
    "                 num_nodes_to_try=20, distance_margins = [0.0, 0.01]):\n",
    "    # We'll try to get distances within 5%, then 10%, then 15%, then 20%\n",
    "    # If we can't find a path for any of those distances, we will choose a new start node\n",
    "    # If we fail with 10 start nodes, for now we'll fail the whole walk\n",
    "    \n",
    "    # Get a list of all of the nodes\n",
    "    all_nodes = list(range(977))\n",
    "    # We will loop until a walk is found, up to num_nodes_to_try*len(distance_margins)\n",
    "    for nodes_tried in range(num_nodes_to_try):\n",
    "        # Note: This does not preserve inequality in start/end node appearances\n",
    "        start_node = np.random.choice(all_nodes)\n",
    "        \n",
    "        # Loop over the distance margins looking for an acceptable walk\n",
    "        for current_margin in distance_margins:\n",
    "            max_distance = total_distance + total_distance*current_margin\n",
    "            #min_distance = total_distance - total_distance*current_margin\n",
    "            \n",
    "            current_dist = 0.0\n",
    "            # Initiate the walk and set current_node to start_node\n",
    "            walk = [start_node]\n",
    "            current_node = start_node\n",
    "            \n",
    "            # Compute the distance between current_node and all other nodes\n",
    "            current_node_dists = get_current_dists(current_node, estimated_distances)\n",
    "            \n",
    "            # Try to construct a walk\n",
    "            for step in range(walk_length):\n",
    "                # Deal with the last step of a closed walk\n",
    "                if len(walk) == walk_length-1 and closed_walk:\n",
    "                    candidate_node = start_node\n",
    "                    if current_node == candidate_node:\n",
    "                        # This would cause a self-loop\n",
    "                        break\n",
    "                        \n",
    "                    # Check that the closed walk works within the margin\n",
    "                    candidate_dist = estimated_distances[current_node][candidate_node]\n",
    "                    if (current_dist + candidate_dist) <= max_distance:\n",
    "                        walk.append(candidate_node)\n",
    "                        return walk\n",
    "                    else:\n",
    "                        # Failure\n",
    "                        break\n",
    "                else:\n",
    "                    # Choose a random node, biased towards closer nodes\n",
    "                    all_other_nodes = list(set(all_nodes)-set([current_node]))\n",
    "                    candidate_node = np.random.choice(all_other_nodes, p=current_node_dists)\n",
    "                    candidate_dist = estimated_distances[current_node][candidate_node]\n",
    "                    if (current_dist + candidate_dist) <= max_distance:\n",
    "                        walk.append(candidate_node)\n",
    "                        current_dist += candidate_dist\n",
    "                        current_node = candidate_node\n",
    "                        current_node_dists = get_current_dists(current_node, estimated_distances)\n",
    "\n",
    "                    # Was this the last step?\n",
    "                    if len(walk) == walk_length:\n",
    "                        return walk\n",
    "                    \n",
    "                        \n",
    "    return False"
   ]
  },
  {
   "cell_type": "code",
   "execution_count": 14,
   "id": "0ad97f1e-44d7-439a-a397-a5b7400ecf51",
   "metadata": {
    "scrolled": true,
    "tags": []
   },
   "outputs": [
    {
     "name": "stdout",
     "output_type": "stream",
     "text": [
      "Gave up on walk: ['Jebel Ali', 'Abu Dhabi', 'Sharjah', 'Jebel Ali'] after 500 tries.\n"
     ]
    }
   ],
   "source": [
    "# For each real walk, find a \"doppleganger\" walk through the random network\n",
    "# Match exactly: the number of steps in the walk and whether it is open or closed\n",
    "# Match reasonably closely: the total distance of the walk\n",
    "synthetic_walks = []\n",
    "total_tries = 500\n",
    "for walk in walks:\n",
    "    # Note the number of nodes\n",
    "    walk_length = len(walk)\n",
    "    # Note whether the walk is open or closed\n",
    "    closed_walk = True\n",
    "    if walk[0] != walk[-1]:\n",
    "        closed_walk = False\n",
    "    \n",
    "    # Compute the distance of the real walk\n",
    "    total_distance = sum([real_distances[(walk[i-1], walk[i])] for i in range(1, len(walk))])\n",
    "    \n",
    "    # Get a random walk\n",
    "    random_walk = compute_walk(closed_walk, walk_length, total_distance, estimated_distances)\n",
    "    tries = 1\n",
    "    while not random_walk:\n",
    "        tries += 1\n",
    "        random_walk = compute_walk(closed_walk, walk_length, total_distance, estimated_distances)\n",
    "        if tries == total_tries:\n",
    "            break\n",
    "    if not random_walk:\n",
    "        print(f\"Gave up on walk: {walk} after {tries} tries.\")\n",
    "        continue\n",
    "    synthetic_walks.append(random_walk)\n",
    "\n",
    "# Above we computed the number of repeated walks by length.\n",
    "# We'll now randomly add repeats to our synthetic set.\n",
    "walks_by_length = dict()\n",
    "for walk in walks:\n",
    "    walks_by_length.setdefault(len(walk), [])\n",
    "    walks_by_length[len(walk)].append(walk)\n",
    "    \n",
    "for k, num in repeated_by_length.items():\n",
    "    k_length_walks = walks_by_length[k]\n",
    "    # If we've already got repeats, discount for them\n",
    "    num_existing_repeats = len(k_length_walks)-len(set([tuple(walk) for walk in k_length_walks]))\n",
    "    if num_existing_repeats > 0:\n",
    "        num = num - (num_existing_repeats)\n",
    "    # Choose num repeats and add them to our list of walks\n",
    "    idxs = np.random.choice(list(range(len(k_length_walks))), size=num, replace=True)\n",
    "    for idx in idxs:\n",
    "        synthetic_walks.append(list(k_length_walks[idx]))"
   ]
  },
  {
   "cell_type": "code",
   "execution_count": 15,
   "id": "bd7abb36-0d79-4040-8435-b5adf710a2a7",
   "metadata": {},
   "outputs": [
    {
     "name": "stdout",
     "output_type": "stream",
     "text": [
      "1622\n"
     ]
    }
   ],
   "source": [
    "print(len(walks))"
   ]
  },
  {
   "cell_type": "code",
   "execution_count": 16,
   "id": "7c9ed775-777b-4ff6-ad22-b291706e87ad",
   "metadata": {},
   "outputs": [
    {
     "name": "stdout",
     "output_type": "stream",
     "text": [
      "1621\n"
     ]
    }
   ],
   "source": [
    "print(len(synthetic_walks))"
   ]
  },
  {
   "cell_type": "code",
   "execution_count": 17,
   "id": "4d237ff7-daf9-4da3-ad94-314d0d89a727",
   "metadata": {},
   "outputs": [
    {
     "name": "stdout",
     "output_type": "stream",
     "text": [
      "max(total_dist_real): 77803.0, max(total_dist_synthetic): 73389.52403166404\n"
     ]
    },
    {
     "data": {
      "image/png": "[encoded data removed]",
      "text/plain": [
       "<Figure size 900x450 with 2 Axes>"
      ]
     },
     "metadata": {
      "needs_background": "light"
     },
     "output_type": "display_data"
    }
   ],
   "source": [
    "# Compare total distance distributions\n",
    "total_dist_real = []\n",
    "total_dist_synthetic = []\n",
    "for i in range(len(walks)):\n",
    "    real_walk = walks[i]\n",
    "    total_dist_real.append(sum([real_distances[(real_walk[j-1], real_walk[j])] for j in range(1, len(real_walk))]))\n",
    "    if i < len(synthetic_walks):\n",
    "        synthetic_walk = synthetic_walks[i]\n",
    "        total_dist_synthetic.append(sum([estimated_distances[synthetic_walk[j-1]][synthetic_walk[j]]\n",
    "                                         for j in range(1, len(synthetic_walk))]))\n",
    "\n",
    "fig, axs = plt.subplots(nrows=1, ncols=2, dpi=150, figsize=(6, 3), squeeze=False, sharey=True)\n",
    "plt.subplots_adjust(wspace=0.25)\n",
    "ax = axs[0][0]\n",
    "hist, bins = np.histogram(total_dist_real, bins=20)\n",
    "x = bins[1:] + (bins[1:] - bins[:-1]) / 2\n",
    "ax.plot(x, hist)\n",
    "ax = axs[0][1]\n",
    "hist, _ = np.histogram(total_dist_synthetic, bins=bins)\n",
    "ax.plot(x, hist)\n",
    "print(f\"max(total_dist_real): {max(total_dist_real)}, max(total_dist_synthetic): {max(total_dist_synthetic)}\")"
   ]
  },
  {
   "cell_type": "code",
   "execution_count": 23,
   "id": "0491df08-76c1-4db1-8710-0de278366c2d",
   "metadata": {},
   "outputs": [],
   "source": [
    "with open(\"../data/synthetic/synthetic_walks.ngram\", 'w') as fout:\n",
    "    for walk in synthetic_walks:\n",
    "        walk_str = ','.join(map(str, walk)) + '\\n'\n",
    "        fout.write(walk_str)"
   ]
  },
  {
   "cell_type": "code",
   "execution_count": null,
   "id": "9c21764f-9d15-4a79-aa5a-95cdfc6ddf99",
   "metadata": {},
   "outputs": [],
   "source": []
  }
 ],
 "metadata": {
  "kernelspec": {
   "display_name": "Python 3 (ipykernel)",
   "language": "python",
   "name": "python3"
  },
  "language_info": {
   "codemirror_mode": {
    "name": "ipython",
    "version": 3
   },
   "file_extension": ".py",
   "mimetype": "text/x-python",
   "name": "python",
   "nbconvert_exporter": "python",
   "pygments_lexer": "ipython3",
   "version": "3.8.13"
  }
 },
 "nbformat": 4,
 "nbformat_minor": 5
}
