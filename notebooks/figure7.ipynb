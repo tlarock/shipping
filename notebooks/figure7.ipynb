{
 "cells": [
  {
   "cell_type": "code",
   "execution_count": null,
   "id": "beeed1c1-31e9-4b28-9b1b-190f684c3b21",
   "metadata": {},
   "outputs": [],
   "source": [
    "import pickle\n",
    "import matplotlib\n",
    "import matplotlib.pyplot as plt\n",
    "import numpy as np\n",
    "\n",
    "%matplotlib inline"
   ]
  },
  {
   "cell_type": "code",
   "execution_count": null,
   "id": "9b0fd6ad-4e29-41ea-af80-d01efd3759fb",
   "metadata": {},
   "outputs": [],
   "source": [
    "results_dir = \"../results/interpolated_paths/\""
   ]
  },
  {
   "cell_type": "code",
   "execution_count": null,
   "id": "8d98c4b1-68c8-47cd-a0dc-fa9c52a4cfa6",
   "metadata": {},
   "outputs": [],
   "source": [
    "with open(results_dir + f\"core_plot_vals_reproduce.pickle\", 'rb') as fpickle:\n",
    "    reproduced_data = pickle.load(fpickle)\n",
    "    print(reproduced_data)"
   ]
  },
  {
   "cell_type": "code",
   "execution_count": null,
   "id": "27d3b0de-9ea1-453f-9e3e-95e4fe7e8077",
   "metadata": {},
   "outputs": [],
   "source": [
    "dts = [1.0, 1.05, 1.15, 1.25, 1.5, 1.75, 2.0, \"allpaths\", \"detour\"]\n",
    "dts = [1.05]\n",
    "for dt in dts:\n",
    "    with open(results_dir + f\"core_plot_vals_dt-{dt}.pickle\", 'rb') as fpickle:\n",
    "        data = pickle.load(fpickle)\n",
    "        print(data)"
   ]
  },
  {
   "cell_type": "code",
   "execution_count": null,
   "id": "200b9f01-e8f7-43ed-80ba-ffc67dc88720",
   "metadata": {},
   "outputs": [],
   "source": [
    "fig, axs = plt.subplots(1, 2, figsize=(12, 4))\n",
    "\n",
    "# Reproduced results\n",
    "ax = axs[0]\n",
    "ax.get_yaxis().set_visible(False)\n",
    "ax.spines['top'].set_visible(False)\n",
    "ax.spines['right'].set_visible(False)\n",
    "ax.spines['left'].set_visible(False)\n",
    "bar_colors = {\"local\":(61, 147, 175), \"feeder\": (228, 185, 65), \"core\": (178, 73, 106)}\n",
    "for edge_type in bar_colors:\n",
    "    bar_colors[edge_type] = tuple((bar_colors[edge_type][i]/255 for i in range(len(bar_colors[edge_type]))))\n",
    "\n",
    "x = list(range(1,5))\n",
    "bars_so_far = np.zeros((4,))\n",
    "for edge_type in ['local', 'feeder', 'core']:\n",
    "    bars = np.array(reproduced_data[edge_type])\n",
    "    ax.bar(x, bars, bottom=bars_so_far, facecolor=bar_colors[edge_type])\n",
    "    for idx, bar_height in enumerate(bars):\n",
    "        text_y_position = (bars_so_far[idx]) + (bar_height / 3)\n",
    "        ax.text(idx+1, text_y_position, s=round(bar_height), ha='center', va='center')\n",
    "    bars_so_far += bars\n",
    "ax.set_xticks([1, 2, 3, 4])\n",
    "ax.set_xticklabels([\"Links (graph)\", \"Lengths (graph)\", \"Non-core\\n(all)\", \"Non-core\\n(through core)\"])\n",
    "\n",
    "# Our results\n",
    "ax = axs[1]\n",
    "ax.get_yaxis().set_visible(False)\n",
    "ax.spines['top'].set_visible(False)\n",
    "ax.spines['right'].set_visible(False)\n",
    "ax.spines['left'].set_visible(False)\n",
    "bar_colors = {\"local\":(61, 147, 175), \"out-feeder\": (228, 185, 65), \"in-feeder\": (146, 186, 148), \"core\": (178, 73, 106)}\n",
    "for edge_type in bar_colors:\n",
    "    bar_colors[edge_type] = tuple((bar_colors[edge_type][i]/255 for i in range(len(bar_colors[edge_type]))))\n",
    "    \n",
    "x = list(range(1,5))\n",
    "bars_so_far = np.zeros((4,))\n",
    "for edge_type in ['local', 'in-feeder', 'out-feeder', 'core']:\n",
    "    bars = np.array(data[edge_type])\n",
    "    ax.bar(x, bars, bottom=bars_so_far, facecolor=bar_colors[edge_type])\n",
    "    for idx, bar_height in enumerate(bars):\n",
    "        text_y_position = (bars_so_far[idx]) + (bar_height / 3)\n",
    "        ax.text(idx+1, text_y_position, s=round(bar_height), ha='center', va='center')\n",
    "    bars_so_far += bars\n",
    "ax.set_xticks([1, 2, 3, 4])\n",
    "ax.set_xticklabels([\"Links (graph)\", \"Lengths (graph)\", \"Non-core\\n(all)\", \"Non-core\\n(through core)\"])"
   ]
  },
  {
   "cell_type": "code",
   "execution_count": null,
   "id": "b4f1172f-2fb7-4ee6-8ae5-dd97caea4d44",
   "metadata": {},
   "outputs": [],
   "source": []
  }
 ],
 "metadata": {
  "kernelspec": {
   "display_name": "Python 3 (ipykernel)",
   "language": "python",
   "name": "python3"
  },
  "language_info": {
   "codemirror_mode": {
    "name": "ipython",
    "version": 3
   },
   "file_extension": ".py",
   "mimetype": "text/x-python",
   "name": "python",
   "nbconvert_exporter": "python",
   "pygments_lexer": "ipython3",
   "version": "3.8.13"
  }
 },
 "nbformat": 4,
 "nbformat_minor": 5
}
